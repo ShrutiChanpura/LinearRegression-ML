{
  "nbformat": 4,
  "nbformat_minor": 0,
  "metadata": {
    "colab": {
      "name": "LinearRegression.ipynb",
      "provenance": [],
      "authorship_tag": "ABX9TyNhpZVCZqgoSOraw/HNXubZ",
      "include_colab_link": true
    },
    "kernelspec": {
      "name": "python3",
      "display_name": "Python 3"
    },
    "language_info": {
      "name": "python"
    }
  },
  "cells": [
    {
      "cell_type": "markdown",
      "metadata": {
        "id": "view-in-github",
        "colab_type": "text"
      },
      "source": [
        "<a href=\"https://colab.research.google.com/github/ShrutiChanpura/LinearRegression-ML/blob/main/LinearRegression.ipynb\" target=\"_parent\"><img src=\"https://colab.research.google.com/assets/colab-badge.svg\" alt=\"Open In Colab\"/></a>"
      ]
    },
    {
      "cell_type": "markdown",
      "metadata": {
        "id": "YSD7KAchPufc"
      },
      "source": [
        "we gerneally start our code by importing the liberaries which we will throughout the program."
      ]
    },
    {
      "cell_type": "code",
      "metadata": {
        "id": "JJzL7xnVQSq0"
      },
      "source": [
        "import numpy as np\n",
        "import pandas as pd\n",
        "import sklearn"
      ],
      "execution_count": null,
      "outputs": []
    },
    {
      "cell_type": "markdown",
      "metadata": {
        "id": "NMBM681iQeDk"
      },
      "source": [
        "now we will load the data that we will be using to train our model."
      ]
    },
    {
      "cell_type": "code",
      "metadata": {
        "id": "3skB9rPkQoK0"
      },
      "source": [
        "from sklearn.datasets import load_boston\n",
        "dict= load_boston()"
      ],
      "execution_count": null,
      "outputs": []
    },
    {
      "cell_type": "code",
      "metadata": {
        "colab": {
          "base_uri": "https://localhost:8080/"
        },
        "id": "GRtVnj6OR23t",
        "outputId": "7ace368f-01b1-4051-b61c-c7802c242b1c"
      },
      "source": [
        "dict.keys()    # return all the keys of the dataset dictionary"
      ],
      "execution_count": null,
      "outputs": [
        {
          "output_type": "execute_result",
          "data": {
            "text/plain": [
              "dict_keys(['data', 'target', 'feature_names', 'DESCR', 'filename'])"
            ]
          },
          "metadata": {
            "tags": []
          },
          "execution_count": 11
        }
      ]
    },
    {
      "cell_type": "code",
      "metadata": {
        "id": "EaH7aRymR5W9"
      },
      "source": [
        "print(dict.DESCR)   # Info about the dataset"
      ],
      "execution_count": null,
      "outputs": []
    },
    {
      "cell_type": "code",
      "metadata": {
        "id": "wMfYzYdSTzeW"
      },
      "source": [
        "print(dict.feature_names)  #Info about the feature names"
      ],
      "execution_count": null,
      "outputs": []
    },
    {
      "cell_type": "code",
      "metadata": {
        "id": "VUGAreXCUGhd"
      },
      "source": [
        "print(dict.filename)  #Info about the file name"
      ],
      "execution_count": null,
      "outputs": []
    },
    {
      "cell_type": "code",
      "metadata": {
        "id": "m8rgJOeuUVci"
      },
      "source": [
        "print(dict.target)     #Info about the target"
      ],
      "execution_count": null,
      "outputs": []
    },
    {
      "cell_type": "code",
      "metadata": {
        "id": "Z6qmqqybUhTD"
      },
      "source": [
        "print(dict.data)  #Info about the data"
      ],
      "execution_count": null,
      "outputs": []
    },
    {
      "cell_type": "markdown",
      "metadata": {
        "id": "OmLCUNTjUvJk"
      },
      "source": [
        "we convert our the dataset into the pandas dataframe, so that it is easier to analyse the data"
      ]
    },
    {
      "cell_type": "code",
      "metadata": {
        "id": "3RPD7-cPVULg"
      },
      "source": [
        "boston = pd.DataFrame(dict.data, columns=dict.feature_names)\n",
        "boston.head()"
      ],
      "execution_count": null,
      "outputs": []
    },
    {
      "cell_type": "markdown",
      "metadata": {
        "id": "Di2P44XUVwFk"
      },
      "source": [
        "Adding a new column of target value to the dataframe"
      ]
    },
    {
      "cell_type": "code",
      "metadata": {
        "id": "Cn00oUtjV3e8"
      },
      "source": [
        "boston['MEDV'] = dict.target\n",
        "boston.head()"
      ],
      "execution_count": null,
      "outputs": []
    },
    {
      "cell_type": "markdown",
      "metadata": {
        "id": "Xpp-86_3WJ-m"
      },
      "source": [
        "check if the dataset contains any null values or not"
      ]
    },
    {
      "cell_type": "code",
      "metadata": {
        "id": "kSXeJrNQWRMO"
      },
      "source": [
        "boston.isnull()"
      ],
      "execution_count": null,
      "outputs": []
    },
    {
      "cell_type": "markdown",
      "metadata": {
        "id": "S1fjw8nEWbiG"
      },
      "source": [
        "we use sum() function to count all the cells with True value"
      ]
    },
    {
      "cell_type": "code",
      "metadata": {
        "id": "lWH0FACDW7T2"
      },
      "source": [
        "boston.isnull().sum()"
      ],
      "execution_count": null,
      "outputs": []
    },
    {
      "cell_type": "markdown",
      "metadata": {
        "id": "Ee-wXjVIW8T2"
      },
      "source": [
        "we never train the model on all the data that we have, we always make sure to atleast have a test dataset, which is different from the training dataset."
      ]
    },
    {
      "cell_type": "code",
      "metadata": {
        "id": "J252cveVXPza"
      },
      "source": [
        "from sklearn.model_selection import train_test_split\n",
        "\n",
        "X = boston.drop('MEDV', axis=1)\n",
        "Y = boston['MEDV']\n",
        "\n",
        "X_train, X_test, Y_train, Y_test = train_test_split(X, Y, test_size = 0.15, random_state=1)\n",
        "\n",
        "print(X_train.shape)\n",
        "print(X_test.shape)\n",
        "print(Y_train.shape)\n",
        "print(Y_test.shape)"
      ],
      "execution_count": null,
      "outputs": []
    },
    {
      "cell_type": "markdown",
      "metadata": {
        "id": "txgVnw8iYrBk"
      },
      "source": [
        "now let's import the linear regression model from sklearn and train it on the training dataset."
      ]
    },
    {
      "cell_type": "code",
      "metadata": {
        "id": "dGLQpeDQY65P"
      },
      "source": [
        "from sklearn.linear_model import LinearRegression\n",
        "from sklearn.metrics import mean_squared_error\n"
      ],
      "execution_count": null,
      "outputs": []
    },
    {
      "cell_type": "code",
      "metadata": {
        "id": "STktOGdGi4kZ"
      },
      "source": [
        "# FITTING MODEL ON THE TRAINNING DATASET\n",
        "\n",
        "lin_model = LinearRegression\n",
        "lin_model.fit(X_train, Y_train)"
      ],
      "execution_count": null,
      "outputs": []
    },
    {
      "cell_type": "code",
      "metadata": {
        "id": "jwMsx1_pgvxL"
      },
      "source": [
        "y_train_predict = lin_model.predict(X_train)\n",
        "rnse = (np.sqrt(mean_squared_error(Y_train, y_train_predict)))\n",
        "\n",
        "print(\"The model performance for training set\")\n",
        "print('RNSE is {}'.format(rnse))\n",
        "print(\"/n\")\n",
        "\n",
        "#ON TESTING SET\n",
        "y_test_predict = lin_model.predict(X_test)\n",
        "rnse = (np.sqrt(mean_squared_error(Y_test, y_test_predict)))\n",
        "\n",
        "print(\"The model performance for training set\")\n",
        "print('RNSE is {}'.format(rnse))"
      ],
      "execution_count": null,
      "outputs": []
    }
  ]
}